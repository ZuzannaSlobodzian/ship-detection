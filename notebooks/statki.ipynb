{
 "cells": [
  {
   "cell_type": "code",
   "id": "7c187928",
   "metadata": {
    "ExecuteTime": {
     "end_time": "2024-04-30T12:36:45.683741Z",
     "start_time": "2024-04-30T12:36:40.088947Z"
    }
   },
   "source": [
    "import ee\n",
    "ee.Authenticate()\n",
    "ee.Initialize()\n",
    "import geemap\n",
    "geemap.ee_initialize()"
   ],
   "outputs": [],
   "execution_count": 1
  },
  {
   "cell_type": "code",
   "id": "898d4f53",
   "metadata": {
    "ExecuteTime": {
     "end_time": "2024-04-30T12:36:48.298082Z",
     "start_time": "2024-04-30T12:36:46.830902Z"
    }
   },
   "source": [
    "#generuje mape\n",
    "Map = geemap.Map(center=[54.52, 19.16], zoom=10)\n",
    "#definiuje poligon\n",
    "region = ee.Geometry.BBox(18.58, 54.69, 19.79, 54.34)\n",
    "#konwertuje region na FeatureColecction\n",
    "fc = ee.FeatureCollection(region)\n",
    "#definiuje styl do regionu\n",
    "style = {'color': 'ffff00ff', 'fillColor': '00000000'}\n",
    "#dodaje region do mapy \n",
    "Map.addLayer(fc.style(**style), {}, 'poligon')\n",
    "#pobieram dane o pokryciu terenu dla calego swiata\n",
    "landcover = ee.ImageCollection('ESA/WorldCover/v200')\n",
    "#przycinam dane landcover do regionu\n",
    "landcover_region_clipped = landcover.map(lambda image: image.clip(region))\n",
    "#pobieram collection danych sentinel, one nie są potrzebne ale przykład\n",
    "collection = (\n",
    "    ee.ImageCollection('COPERNICUS/S2_SR') #slaba jakosc\n",
    "    .filterDate('2020-07-06', '2020-08-09')\n",
    "    .filter(ee.Filter.lt('CLOUDY_PIXEL_PERCENTAGE', 15)) # tu robie to samo ale z filtrami\n",
    ")\n",
    "#wyciagam mediane\n",
    "image = collection.median()\n",
    "#przyciolem se\n",
    "image = image.clip(region) #przyciolem se\n",
    "vis = {\n",
    "    'min': 0.0,\n",
    "    'max': 3000,\n",
    "    'bands': ['B4', 'B3', 'B2'],\n",
    "}\n",
    "#dodaje land_cover do mapy\n",
    "Map.addLayer(landcover_region_clipped, {}, 'landcover')\n",
    "#dodaje dane sentinela do mapy \n",
    "Map.addLayer(image, vis, 'Sentinel-2')\n",
    "\n",
    "Map"
   ],
   "outputs": [
    {
     "data": {
      "text/plain": [
       "<IPython.core.display.HTML object>"
      ],
      "text/html": [
       "\n",
       "            <style>\n",
       "                .geemap-dark {\n",
       "                    --jp-widgets-color: white;\n",
       "                    --jp-widgets-label-color: white;\n",
       "                    --jp-ui-font-color1: white;\n",
       "                    --jp-layout-color2: #454545;\n",
       "                    background-color: #383838;\n",
       "                }\n",
       "\n",
       "                .geemap-dark .jupyter-button {\n",
       "                    --jp-layout-color3: #383838;\n",
       "                }\n",
       "\n",
       "                .geemap-colab {\n",
       "                    background-color: var(--colab-primary-surface-color, white);\n",
       "                }\n",
       "\n",
       "                .geemap-colab .jupyter-button {\n",
       "                    --jp-layout-color3: var(--colab-primary-surface-color, white);\n",
       "                }\n",
       "            </style>\n",
       "            "
      ]
     },
     "metadata": {},
     "output_type": "display_data"
    },
    {
     "data": {
      "text/plain": [
       "Map(center=[54.52, 19.16], controls=(WidgetControl(options=['position', 'transparent_bg'], widget=SearchDataGU…"
      ],
      "application/vnd.jupyter.widget-view+json": {
       "version_major": 2,
       "version_minor": 0,
       "model_id": "4ebc99fb7cc24e78a5f80bac6b3fbcaa"
      }
     },
     "execution_count": 2,
     "metadata": {},
     "output_type": "execute_result"
    }
   ],
   "execution_count": 2
  },
  {
   "cell_type": "code",
   "execution_count": 10,
   "id": "198fda84",
   "metadata": {
    "ExecuteTime": {
     "end_time": "2024-04-30T12:01:24.047739Z",
     "start_time": "2024-04-30T12:01:23.846386Z"
    }
   },
   "outputs": [
    {
     "data": {
      "text/html": [
       "\n",
       "            <style>\n",
       "                .geemap-dark {\n",
       "                    --jp-widgets-color: white;\n",
       "                    --jp-widgets-label-color: white;\n",
       "                    --jp-ui-font-color1: white;\n",
       "                    --jp-layout-color2: #454545;\n",
       "                    background-color: #383838;\n",
       "                }\n",
       "\n",
       "                .geemap-dark .jupyter-button {\n",
       "                    --jp-layout-color3: #383838;\n",
       "                }\n",
       "\n",
       "                .geemap-colab {\n",
       "                    background-color: var(--colab-primary-surface-color, white);\n",
       "                }\n",
       "\n",
       "                .geemap-colab .jupyter-button {\n",
       "                    --jp-layout-color3: var(--colab-primary-surface-color, white);\n",
       "                }\n",
       "            </style>\n",
       "            "
      ],
      "text/plain": [
       "<IPython.core.display.HTML object>"
      ]
     },
     "metadata": {},
     "output_type": "display_data"
    },
    {
     "data": {
      "text/plain": [
       "{'type': 'ImageCollection',\n",
       " 'bands': [],\n",
       " 'version': 1699537813333727,\n",
       " 'id': 'ESA/WorldCover/v200',\n",
       " 'properties': {'max_mirrored_version': 1699489608680902},\n",
       " 'features': [{'type': 'Image',\n",
       "   'bands': [{'id': 'Map',\n",
       "     'data_type': {'type': 'PixelType',\n",
       "      'precision': 'int',\n",
       "      'min': 0,\n",
       "      'max': 255},\n",
       "     'dimensions': [4320000, 1728000],\n",
       "     'crs': 'EPSG:4326',\n",
       "     'crs_transform': [8.333333333333333e-05,\n",
       "      0,\n",
       "      -180,\n",
       "      0,\n",
       "      -8.333333333333333e-05,\n",
       "      84]}],\n",
       "   'version': 1699537784392512,\n",
       "   'id': 'ESA/WorldCover/v200/2021',\n",
       "   'properties': {'Map_class_names': ['Tree cover',\n",
       "     'Shrubland',\n",
       "     'Grassland',\n",
       "     'Cropland',\n",
       "     'Built-up',\n",
       "     'Bare / sparse vegetation',\n",
       "     'Snow and ice',\n",
       "     'Permanent water bodies',\n",
       "     'Herbaceous wetland',\n",
       "     'Mangroves',\n",
       "     'Moss and lichen'],\n",
       "    'system:time_start': 1609455600000,\n",
       "    'system:footprint': {'type': 'LinearRing',\n",
       "     'coordinates': [[-180, -90],\n",
       "      [180, -90],\n",
       "      [180, 90],\n",
       "      [-180, 90],\n",
       "      [-180, -90]]},\n",
       "    'system:time_end': 1640991600000,\n",
       "    'Map_class_palette': ['006400',\n",
       "     'ffbb22',\n",
       "     'ffff4c',\n",
       "     'f096ff',\n",
       "     'fa0000',\n",
       "     'b4b4b4',\n",
       "     'f0f0f0',\n",
       "     '0064c8',\n",
       "     '0096a0',\n",
       "     '00cf75',\n",
       "     'fae6a0'],\n",
       "    'Map_class_values': [10, 20, 30, 40, 50, 60, 70, 80, 90, 95, 100],\n",
       "    'system:asset_size': 109661138988,\n",
       "    'system:index': '2021'}}]}"
      ]
     },
     "execution_count": 10,
     "metadata": {},
     "output_type": "execute_result"
    }
   ],
   "source": "landcover.getInfo() #Fajna funkcja do informacji landcover"
  },
  {
   "cell_type": "code",
   "execution_count": 11,
   "id": "e8855175",
   "metadata": {
    "ExecuteTime": {
     "end_time": "2024-04-30T12:01:39.838518Z",
     "start_time": "2024-04-30T12:01:39.446031Z"
    }
   },
   "outputs": [
    {
     "data": {
      "text/html": [
       "\n",
       "            <style>\n",
       "                .geemap-dark {\n",
       "                    --jp-widgets-color: white;\n",
       "                    --jp-widgets-label-color: white;\n",
       "                    --jp-ui-font-color1: white;\n",
       "                    --jp-layout-color2: #454545;\n",
       "                    background-color: #383838;\n",
       "                }\n",
       "\n",
       "                .geemap-dark .jupyter-button {\n",
       "                    --jp-layout-color3: #383838;\n",
       "                }\n",
       "\n",
       "                .geemap-colab {\n",
       "                    background-color: var(--colab-primary-surface-color, white);\n",
       "                }\n",
       "\n",
       "                .geemap-colab .jupyter-button {\n",
       "                    --jp-layout-color3: var(--colab-primary-surface-color, white);\n",
       "                }\n",
       "            </style>\n",
       "            "
      ],
      "text/plain": [
       "<IPython.core.display.HTML object>"
      ]
     },
     "metadata": {},
     "output_type": "display_data"
    },
    {
     "data": {
      "application/vnd.jupyter.widget-view+json": {
       "model_id": "870155b75c784f96bf641c406fb955c8",
       "version_major": 2,
       "version_minor": 0
      },
      "text/plain": [
       "Map(center=[54.52, 19.16], controls=(WidgetControl(options=['position', 'transparent_bg'], widget=SearchDataGU…"
      ]
     },
     "execution_count": 11,
     "metadata": {},
     "output_type": "execute_result"
    }
   ],
   "source": [
    "# Pobranie pierwszego obrazu z kolekcji\n",
    "first_image = landcover_region_clipped.first()\n",
    "\n",
    "# Utworzenie maski dla klas, które nie są równe 80\n",
    "land_mask = first_image.select('Map').neq(80)\n",
    "\n",
    "# Przefiltrowanie obrazu na podstawie maski\n",
    "land_layer = first_image.updateMask(land_mask)\n",
    "\n",
    "# Dodanie warstwy wody do mapy\n",
    "Map.addLayer(land_layer, {'palette': ['blue']}, \"Land\")\n",
    "\n",
    "# Wyświetlenie mapy\n",
    "Map"
   ]
  },
  {
   "cell_type": "code",
   "execution_count": 12,
   "id": "56c27bbf",
   "metadata": {
    "ExecuteTime": {
     "end_time": "2024-04-30T12:01:42.507291Z",
     "start_time": "2024-04-30T12:01:42.146833Z"
    }
   },
   "outputs": [
    {
     "data": {
      "text/html": [
       "\n",
       "            <style>\n",
       "                .geemap-dark {\n",
       "                    --jp-widgets-color: white;\n",
       "                    --jp-widgets-label-color: white;\n",
       "                    --jp-ui-font-color1: white;\n",
       "                    --jp-layout-color2: #454545;\n",
       "                    background-color: #383838;\n",
       "                }\n",
       "\n",
       "                .geemap-dark .jupyter-button {\n",
       "                    --jp-layout-color3: #383838;\n",
       "                }\n",
       "\n",
       "                .geemap-colab {\n",
       "                    background-color: var(--colab-primary-surface-color, white);\n",
       "                }\n",
       "\n",
       "                .geemap-colab .jupyter-button {\n",
       "                    --jp-layout-color3: var(--colab-primary-surface-color, white);\n",
       "                }\n",
       "            </style>\n",
       "            "
      ],
      "text/plain": [
       "<IPython.core.display.HTML object>"
      ]
     },
     "metadata": {},
     "output_type": "display_data"
    },
    {
     "data": {
      "application/vnd.jupyter.widget-view+json": {
       "model_id": "870155b75c784f96bf641c406fb955c8",
       "version_major": 2,
       "version_minor": 0
      },
      "text/plain": [
       "Map(center=[54.52, 19.16], controls=(WidgetControl(options=['position', 'transparent_bg'], widget=SearchDataGU…"
      ]
     },
     "execution_count": 12,
     "metadata": {},
     "output_type": "execute_result"
    }
   ],
   "source": [
    "\n",
    "# Definicja funkcji dylatacji\n",
    "def dilate(image, radius):\n",
    "    dilated = image.focal_max(radius, 'circle', 'meters')\n",
    "    return dilated\n",
    "\n",
    "# Pobranie pierwszego obrazu z kolekcji\n",
    "first_image = landcover_region_clipped.first()\n",
    "\n",
    "# Utworzenie maski dla klas, które nie są równe 80\n",
    "land_mask = first_image.select('Map').neq(80)\n",
    "\n",
    "# Przefiltrowanie obrazu na podstawie maski\n",
    "land_layer = first_image.updateMask(land_mask)\n",
    "\n",
    "# Dylatacja warstwy wody\n",
    "dilated_land_layer = dilate(land_layer, 100)  # Promień dylatacji - możesz dostosować według potrzeb\n",
    "\n",
    "# Dodanie warstwy lądu po dylatacji do mapy\n",
    "Map.addLayer(dilated_land_layer, {'palette': ['green']}, \"Dilated Water Bodies\")\n",
    "\n",
    "# Wyświetlenie mapy\n",
    "Map"
   ]
  },
  {
   "cell_type": "code",
   "execution_count": 13,
   "id": "97ee32d9",
   "metadata": {
    "ExecuteTime": {
     "end_time": "2024-04-30T12:01:44.044217Z",
     "start_time": "2024-04-30T12:01:44.039456Z"
    }
   },
   "outputs": [
    {
     "data": {
      "text/html": [
       "\n",
       "            <style>\n",
       "                .geemap-dark {\n",
       "                    --jp-widgets-color: white;\n",
       "                    --jp-widgets-label-color: white;\n",
       "                    --jp-ui-font-color1: white;\n",
       "                    --jp-layout-color2: #454545;\n",
       "                    background-color: #383838;\n",
       "                }\n",
       "\n",
       "                .geemap-dark .jupyter-button {\n",
       "                    --jp-layout-color3: #383838;\n",
       "                }\n",
       "\n",
       "                .geemap-colab {\n",
       "                    background-color: var(--colab-primary-surface-color, white);\n",
       "                }\n",
       "\n",
       "                .geemap-colab .jupyter-button {\n",
       "                    --jp-layout-color3: var(--colab-primary-surface-color, white);\n",
       "                }\n",
       "            </style>\n",
       "            "
      ],
      "text/plain": [
       "<IPython.core.display.HTML object>"
      ]
     },
     "metadata": {},
     "output_type": "display_data"
    }
   ],
   "source": [
    "# Konwersja obrazu lądów po dylatacji na binarny obraz\n",
    "land_binary = dilated_land_layer.gt(0)"
   ]
  },
  {
   "cell_type": "code",
   "execution_count": 14,
   "id": "36220245",
   "metadata": {
    "ExecuteTime": {
     "end_time": "2024-04-30T12:01:52.740764Z",
     "start_time": "2024-04-30T12:01:51.673831Z"
    }
   },
   "outputs": [
    {
     "data": {
      "text/html": [
       "\n",
       "            <style>\n",
       "                .geemap-dark {\n",
       "                    --jp-widgets-color: white;\n",
       "                    --jp-widgets-label-color: white;\n",
       "                    --jp-ui-font-color1: white;\n",
       "                    --jp-layout-color2: #454545;\n",
       "                    background-color: #383838;\n",
       "                }\n",
       "\n",
       "                .geemap-dark .jupyter-button {\n",
       "                    --jp-layout-color3: #383838;\n",
       "                }\n",
       "\n",
       "                .geemap-colab {\n",
       "                    background-color: var(--colab-primary-surface-color, white);\n",
       "                }\n",
       "\n",
       "                .geemap-colab .jupyter-button {\n",
       "                    --jp-layout-color3: var(--colab-primary-surface-color, white);\n",
       "                }\n",
       "            </style>\n",
       "            "
      ],
      "text/plain": [
       "<IPython.core.display.HTML object>"
      ]
     },
     "metadata": {},
     "output_type": "display_data"
    },
    {
     "data": {
      "application/vnd.jupyter.widget-view+json": {
       "model_id": "870155b75c784f96bf641c406fb955c8",
       "version_major": 2,
       "version_minor": 0
      },
      "text/plain": [
       "Map(center=[54.52, 19.16], controls=(WidgetControl(options=['position', 'transparent_bg'], widget=SearchDataGU…"
      ]
     },
     "execution_count": 14,
     "metadata": {},
     "output_type": "execute_result"
    }
   ],
   "source": [
    "# Utworzenie maski dla całego obszaru\n",
    "full_extent_mask = ee.Image.constant(1).clip(region)\n",
    "# Odjęcie obszaru wody od całego obszaru\n",
    "# Zastąpienie wartości None zerami w masce wody\n",
    "land_binary = land_binary.unmask(0)\n",
    "#Map.addLayer(land_binary, {'palette': ['white', 'blue']}, 'unmask')\n",
    "\n",
    "\n",
    "# Odwrócenie maski lądowej\n",
    "water_mask = land_binary.Not()\n",
    "\n",
    "# Dodanie warstwy maski wody do mapy\n",
    "Map.addLayer(water_mask, {'palette': ['white', 'blue']}, 'Water Mask')\n",
    "\n",
    "\n",
    "clipped_image = image\n",
    "# Zastosowanie tej maski do obrazu Sentinel-2\n",
    "image_without_water = clipped_image.updateMask(water_mask)\n",
    "\n",
    "# Dodanie warstwy obrazu Sentinel-2 bez obszaru wody do mapy #Tu jest warstwa do obróbki \n",
    "Map.addLayer(image_without_water, vis, 'full_extent_mask')\n",
    "\n",
    "# Wyświetlenie mapy\n",
    "Map"
   ]
  },
  {
   "cell_type": "code",
   "execution_count": 15,
   "id": "25cf1fa6",
   "metadata": {
    "ExecuteTime": {
     "end_time": "2024-04-30T12:02:06.255010Z",
     "start_time": "2024-04-30T12:02:04.839067Z"
    }
   },
   "outputs": [
    {
     "data": {
      "text/html": [
       "\n",
       "            <style>\n",
       "                .geemap-dark {\n",
       "                    --jp-widgets-color: white;\n",
       "                    --jp-widgets-label-color: white;\n",
       "                    --jp-ui-font-color1: white;\n",
       "                    --jp-layout-color2: #454545;\n",
       "                    background-color: #383838;\n",
       "                }\n",
       "\n",
       "                .geemap-dark .jupyter-button {\n",
       "                    --jp-layout-color3: #383838;\n",
       "                }\n",
       "\n",
       "                .geemap-colab {\n",
       "                    background-color: var(--colab-primary-surface-color, white);\n",
       "                }\n",
       "\n",
       "                .geemap-colab .jupyter-button {\n",
       "                    --jp-layout-color3: var(--colab-primary-surface-color, white);\n",
       "                }\n",
       "            </style>\n",
       "            "
      ],
      "text/plain": [
       "<IPython.core.display.HTML object>"
      ]
     },
     "metadata": {},
     "output_type": "display_data"
    },
    {
     "data": {
      "application/vnd.jupyter.widget-view+json": {
       "model_id": "870155b75c784f96bf641c406fb955c8",
       "version_major": 2,
       "version_minor": 0
      },
      "text/plain": [
       "Map(center=[54.52, 19.16], controls=(WidgetControl(options=['position', 'transparent_bg'], widget=SearchDataGU…"
      ]
     },
     "execution_count": 15,
     "metadata": {},
     "output_type": "execute_result"
    }
   ],
   "source": [
    "#Utworzenie kolekcji obrazów Sentinel-1 GRD\n",
    "collection = (\n",
    "    ee.ImageCollection('COPERNICUS/S1_GRD')\n",
    "    .filterBounds(region)\n",
    "    .filterDate('2020-07-06', '2020-08-09')\n",
    ")\n",
    "\n",
    "images = collection.limit(10)  # Wybierz pierwszych 10 zobrazowań (możesz dostosować tę liczbę)\n",
    "\n",
    "# Przycięcie każdego zobrazowania do określonego regionu\n",
    "clipped_images = images.map(lambda img: img.clip(region))\n",
    "\n",
    "# Połączenie zobrazowań w jeden obraz\n",
    "mosaic_image = clipped_images.mosaic()\n",
    "\n",
    "# Ustawienie wizualizacji\n",
    "vis_params = {'min': -25, 'max': 0}\n",
    "\n",
    "# Dodanie obrazu do mapy\n",
    "Map.addLayer(mosaic_image, vis_params, 'Sentinel-1 VV (Mosaic)')\n",
    "\n",
    "#wycięcie morza\n",
    "radar_mosaic_sea = mosaic_image.updateMask(water_mask)\n",
    "Map.addLayer(water_mask, {'palette': ['white', 'blue']}, 'Water Mask')\n",
    "Map.addLayer(radar_mosaic_sea, vis_params, 'Sentinel-1 VV (moze)')\n",
    "# Wyświetlenie mapy\n",
    "Map"
   ]
  },
  {
   "cell_type": "code",
   "execution_count": 16,
   "id": "1b2b3f50",
   "metadata": {
    "ExecuteTime": {
     "end_time": "2024-04-30T12:02:07.537586Z",
     "start_time": "2024-04-30T12:02:07.186271Z"
    }
   },
   "outputs": [
    {
     "data": {
      "text/html": [
       "\n",
       "            <style>\n",
       "                .geemap-dark {\n",
       "                    --jp-widgets-color: white;\n",
       "                    --jp-widgets-label-color: white;\n",
       "                    --jp-ui-font-color1: white;\n",
       "                    --jp-layout-color2: #454545;\n",
       "                    background-color: #383838;\n",
       "                }\n",
       "\n",
       "                .geemap-dark .jupyter-button {\n",
       "                    --jp-layout-color3: #383838;\n",
       "                }\n",
       "\n",
       "                .geemap-colab {\n",
       "                    background-color: var(--colab-primary-surface-color, white);\n",
       "                }\n",
       "\n",
       "                .geemap-colab .jupyter-button {\n",
       "                    --jp-layout-color3: var(--colab-primary-surface-color, white);\n",
       "                }\n",
       "            </style>\n",
       "            "
      ],
      "text/plain": [
       "<IPython.core.display.HTML object>"
      ]
     },
     "metadata": {},
     "output_type": "display_data"
    },
    {
     "data": {
      "application/vnd.jupyter.widget-view+json": {
       "model_id": "870155b75c784f96bf641c406fb955c8",
       "version_major": 2,
       "version_minor": 0
      },
      "text/plain": [
       "Map(center=[54.52, 19.16], controls=(WidgetControl(options=['position', 'transparent_bg'], widget=SearchDataGU…"
      ]
     },
     "execution_count": 16,
     "metadata": {},
     "output_type": "execute_result"
    }
   ],
   "source": [
    "#binaryzuje statki\n",
    "statki = radar_mosaic_sea.select('VV').gt(2)\n",
    "\n",
    "# Dylatacja warstwy wody\n",
    "#dilated_land_layer = dilate(land_layer, 100)  # Promień dylatacji - możesz dostosować według potrzeb\n",
    "\n",
    "# Dodanie warstwy lądu po dylatacji do mapy\n",
    "# Ustawienie pikseli z wartością VV = 0 na None\n",
    "statki = statki.updateMask(statki.neq(0))\n",
    "dilated_statki_layer = dilate(statki, 500)\n",
    "# Dodaj warstwę statków do mapy z przezroczystością\n",
    "Map.addLayer(dilated_statki_layer, {'palette': ['yellow']}, \"Statki\")\n",
    "\n",
    "\n",
    "\n",
    "# Wyświetl mapę\n",
    "Map"
   ]
  },
  {
   "cell_type": "code",
   "execution_count": null,
   "id": "581f03ba",
   "metadata": {},
   "outputs": [],
   "source": []
  }
 ],
 "metadata": {
  "kernelspec": {
   "display_name": "venv",
   "language": "python",
   "name": "venv"
  },
  "language_info": {
   "codemirror_mode": {
    "name": "ipython",
    "version": 3
   },
   "file_extension": ".py",
   "mimetype": "text/x-python",
   "name": "python",
   "nbconvert_exporter": "python",
   "pygments_lexer": "ipython3",
   "version": "3.12.3"
  }
 },
 "nbformat": 4,
 "nbformat_minor": 5
}
